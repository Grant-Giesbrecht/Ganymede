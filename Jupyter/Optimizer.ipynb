{
 "cells": [
  {
   "cell_type": "code",
   "execution_count": 7,
   "id": "1b40b125-9b6c-447a-9938-292f1bd8106d",
   "metadata": {},
   "outputs": [
    {
     "name": "stdout",
     "output_type": "stream",
     "text": [
      "<COMObject MWOApp.MWOffice>\n"
     ]
    }
   ],
   "source": [
    "# Initialize connection to Microwave Office\n",
    "from matplotlib import pyplot as plt\n",
    "from numpy import *\n",
    "from MWO import printGoal, printGoals\n",
    "import MWO\n",
    "\n",
    "import win32com.client\n",
    "awrde = win32com.client.Dispatch(\"MWOApp.MWOffice\")\n",
    "print(awrde)"
   ]
  },
  {
   "cell_type": "code",
   "execution_count": 2,
   "id": "7e6eb4bc-7a3d-4384-a5f2-950d34c0fca3",
   "metadata": {},
   "outputs": [
    {
     "name": "stdout",
     "output_type": "stream",
     "text": [
      "Goal 1\n",
      "    Circuit: Schema1\n",
      "    Cost: 0.0\n",
      "    Enable: True\n",
      "    LVal: 2.0\n",
      "    Measurement: <COMObject <unknown>>\n",
      "    Measurement Name: DB(|S(1,1)|)\n",
      "    Name: Schema1:DB(|S(1,1)|)=1 [w=1, L=2, Range=8e+09..1.2e+10]\n",
      "    Tag: \n",
      "    Type: 0\n",
      "    Weight: 1.0\n",
      "    xStart: 8000000000.0\n",
      "    xStop: 12000000000.0\n",
      "    yStart: 1.0\n",
      "    yStop: 1.0\n",
      "Goal 2\n",
      "    Circuit: Schema1\n",
      "    Cost: 0.0\n",
      "    Enable: True\n",
      "    LVal: 2.0999999046325684\n",
      "    Measurement: <COMObject <unknown>>\n",
      "    Measurement Name: Schema1:DB(|S(1,1)|)\n",
      "    Name: Schema1:Schema1:DB(|S(1,1)|)<1 [w=1.5, L=2.1, Range=8e+09..1.2e+10]\n",
      "    Tag: \n",
      "    Type: 1\n",
      "    Weight: 1.5\n",
      "    xStart: 8000000000.0\n",
      "    xStop: 12000000000.0\n",
      "    yStart: 1.0\n",
      "    yStop: 1.0\n"
     ]
    }
   ],
   "source": [
    "# Print details of Optimizer Goal\n",
    "for idx in range(1, awrde.Project.OptGoals.Count + 1):\n",
    "    print(f\"Goal {idx}\")\n",
    "    printGoal(awrde, idx, \"    \")"
   ]
  },
  {
   "cell_type": "code",
   "execution_count": 3,
   "id": "b6ed590e-aec7-4971-8695-00a3c20323d3",
   "metadata": {
    "jp-MarkdownHeadingCollapsed": true,
    "tags": []
   },
   "outputs": [],
   "source": [
    "# gs = awrde.Project.Graphs\n",
    "\n",
    "w = 1.5\n",
    "L = 2.1\n",
    "xStart = 8e9\n",
    "xStop = 12e9\n",
    "yStart = 1\n",
    "yStop = 1\n",
    "xUnit = MWO.mwUT_Frequency\n",
    "yUnit = MWO.mwUT_Frequency\n",
    "og = awrde.Project.OptGoals.AddGoal(\"Schema1\", \"Schema1:DB(|S(1,1)|)\", MWO.mwOGT_LessThan, w, L, xStart, xStop, xUnit, yStart, yStop, yUnit)\n",
    "                                    \n",
    "# og.Weight = .06\n",
    "# og.xStart = -10\n",
    "# og.L = 0"
   ]
  },
  {
   "cell_type": "code",
   "execution_count": 8,
   "id": "a55dea59-e127-4212-bc62-cfb3c7db4c35",
   "metadata": {},
   "outputs": [
    {
     "name": "stdout",
     "output_type": "stream",
     "text": [
      "Goal 1\n",
      "    Circuit: Schema1\n",
      "    Cost: 0.0\n",
      "    Enable: True\n",
      "    LVal: 2.0\n",
      "    Measurement: <COMObject <unknown>>\n",
      "    Measurement Name: DB(|S(1,1)|)\n",
      "    Name: Schema1:DB(|S(1,1)|)=1 [w=1, L=2, Range=8e+09..1.2e+10]\n",
      "    Tag: \n",
      "    Type: 0\n",
      "    Weight: 1.0\n",
      "    xStart: 8000000000.0\n",
      "    xStop: 12000000000.0\n",
      "    yStart: 1.0\n",
      "    yStop: 1.0\n",
      "Goal 2\n",
      "    Circuit: Schema1\n",
      "    Cost: 0.0\n",
      "    Enable: True\n",
      "    LVal: 2.0999999046325684\n",
      "    Measurement: <COMObject <unknown>>\n",
      "    Measurement Name: Schema1:DB(|S(1,1)|)\n",
      "    Name: Schema1:Schema1:DB(|S(1,1)|)<1 [w=1.5, L=2.1, Range=8e+09..1.2e+10]\n",
      "    Tag: \n",
      "    Type: 1\n",
      "    Weight: 1.5\n",
      "    xStart: 8000000000.0\n",
      "    xStop: 12000000000.0\n",
      "    yStart: 1.0\n",
      "    yStop: 1.0\n",
      "Goal 3\n",
      "    Circuit: Schema1\n",
      "    Cost: 0.0\n",
      "    Enable: True\n",
      "    LVal: 2.0999999046325684\n",
      "    Measurement: <COMObject <unknown>>\n",
      "    Measurement Name: Schema1:DB(|S(1,1)|)\n",
      "    Name: Schema1:Schema1:DB(|S(1,1)|)<1 [w=1.5, L=2.1, Range=8e+09..1.2e+10]\n",
      "    Tag: \n",
      "    Type: 1\n",
      "    Weight: 1.5\n",
      "    xStart: 8000000000.0\n",
      "    xStop: 12000000000.0\n",
      "    yStart: 1.0\n",
      "    yStop: 1.0\n"
     ]
    }
   ],
   "source": [
    "printGoals(awrde)"
   ]
  },
  {
   "cell_type": "code",
   "execution_count": 5,
   "id": "31252c77-42c6-4abb-bb75-8e8463991e97",
   "metadata": {},
   "outputs": [
    {
     "data": {
      "text/plain": [
       "4"
      ]
     },
     "execution_count": 5,
     "metadata": {},
     "output_type": "execute_result"
    }
   ],
   "source": []
  },
  {
   "cell_type": "code",
   "execution_count": null,
   "id": "fe52a1ea-55bf-4575-8ff7-f61ccf4a088e",
   "metadata": {},
   "outputs": [],
   "source": []
  }
 ],
 "metadata": {
  "kernelspec": {
   "display_name": "Python 3 (ipykernel)",
   "language": "python",
   "name": "python3"
  },
  "language_info": {
   "codemirror_mode": {
    "name": "ipython",
    "version": 3
   },
   "file_extension": ".py",
   "mimetype": "text/x-python",
   "name": "python",
   "nbconvert_exporter": "python",
   "pygments_lexer": "ipython3",
   "version": "3.9.5"
  }
 },
 "nbformat": 4,
 "nbformat_minor": 5
}
