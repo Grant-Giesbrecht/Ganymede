{
 "cells": [
  {
   "cell_type": "code",
   "execution_count": 1,
   "id": "f506021b-94e2-4b35-a7fb-9ace8ba2c942",
   "metadata": {},
   "outputs": [
    {
     "name": "stdout",
     "output_type": "stream",
     "text": [
      "<COMObject MWOApp.MWOffice>\n"
     ]
    }
   ],
   "source": [
    "# Initialize connection to Microwave Office\n",
    "from matplotlib import pyplot as plt\n",
    "from numpy import *\n",
    "\n",
    "import win32com.client\n",
    "awrde = win32com.client.Dispatch(\"MWOApp.MWOffice\")\n",
    "print(awrde)"
   ]
  },
  {
   "cell_type": "code",
   "execution_count": 4,
   "id": "0080e251-2d3c-4eee-bb2c-2ab01fe2b869",
   "metadata": {},
   "outputs": [
    {
     "name": "stdout",
     "output_type": "stream",
     "text": [
      "Schematic not found... Creating schematic... Schematic found!\n"
     ]
    }
   ],
   "source": [
    "# Locate or create schematic\n",
    "\n",
    "created = False;\n",
    "while not awrde.Project.Schematics.Exists('Schema1'):\n",
    "    \n",
    "    if created:\n",
    "        raise SystemExit(\"Failed to locate schematic.\")\n",
    "    \n",
    "    print(\"Schematic not found... \", end=\"\");\n",
    "    s1 = awrde.Project.Schematics.Add(\"Schema1\");\n",
    "    print(\"Creating schematic... \", end=\"\");\n",
    "    created = True;\n",
    "print(\"Schematic found!\");"
   ]
  },
  {
   "cell_type": "code",
   "execution_count": 6,
   "id": "1a6025f3-f050-4536-9820-c085ff18fe84",
   "metadata": {},
   "outputs": [],
   "source": [
    "# Create basic circuit if newly created\n",
    "\n",
    "if created:\n",
    "    \n",
    "    p1 = s1.Elements.Add(\"PORT\", 0, 0, 0, False);\n",
    "    e1_l1 = s1.Elements.Add(\"IND\", 0, 0, 0, False);\n",
    "    e1_c2 = s1.Elements.Add(\"CAP\", 1e3, 0, -90, False);\n",
    "    e1_l3 = s1.Elements.Add(\"IND\", 1e3, 0, 0, False);\n",
    "    p2 = s1.Elements.Add(\"PORT\", 2e3, 0, 180, False);\n",
    "    e1_gn1 = s1.Elements.Add(\"GND\", 1e3, 1e3, 0, False);\n",
    "    \n",
    "    pi = 3.14159;\n",
    "    f0 = 1e9;\n",
    "    Z0 = 50;\n",
    "    L1 = 1.5963 * Z0 * 1/2/pi/f0;\n",
    "    C2 = 1.0967 / Z0 * 1/2/pi/f0;\n",
    "    L3 = 1.5963 * Z0 * 1/2/pi/f0;\n",
    "    \n",
    "    e1_l1.parameters(\"L\").ValueAsDouble = L1;\n",
    "    e1_c2.parameters(\"C\").ValueAsDouble = C2;\n",
    "    e1_l3.parameters(\"L\").ValueAsDouble = L3;\n",
    "    "
   ]
  },
  {
   "cell_type": "code",
   "execution_count": 10,
   "id": "84c68548-53dd-45d8-9bf4-58a04a0c3acb",
   "metadata": {},
   "outputs": [],
   "source": [
    "# Set circuit frequencies\n",
    "\n",
    "if created:\n",
    "    \n",
    "    vals = linspace(0, 4.09e9, 201, endpoint=True);\n",
    "    awrde.project.Frequencies.Clear;\n",
    "    awrde.project.Frequencies.AddMultiple(vals);"
   ]
  },
  {
   "cell_type": "code",
   "execution_count": 16,
   "id": "36e95649-af02-4580-9e5d-be64c88b8d39",
   "metadata": {},
   "outputs": [
    {
     "name": "stdout",
     "output_type": "stream",
     "text": [
      "Graph not found... Creating graph... Graph found!\n"
     ]
    }
   ],
   "source": [
    "# Locate or Create Graph, Set it up\n",
    "\n",
    "gs = awrde.Project.Graphs\n",
    "\n",
    "# Locate graph\n",
    "gcreated = False\n",
    "while not gs.Exists('Response'):\n",
    "    \n",
    "    if gcreated:\n",
    "        raise SystemExit(\"Failed to locate graph.\")\n",
    "    \n",
    "    print(\"Graph not found... \", end=\"\");\n",
    "    g1 = gs.Add(\"Response\", 3)\n",
    "    print(\"Creating graph... \", end=\"\");\n",
    "    gcreated = True;\n",
    "print(\"Graph found!\");\n",
    "\n",
    "# Set up graph\n",
    "if gcreated:\n",
    "    \n",
    "    meas_S11 = g1.Measurements.Add(\"Schema1\", \"DB(|S(1,1)|)\")\n",
    "    meas_S21 = g1.Measurements.Add(\"Schema1\", \"DB(|S(2,1)|)\")\n",
    "    meas_S11.SimulateMeasurement()\n",
    "    \n",
    "sim = awrde.Project.Simulator.Analyze\n",
    "\n",
    "g1.Axes.Item(2).Autoscale = False\n",
    "# g1.Axes.Item(2).Maximumscale = 0\n",
    "# g1.Axes.Item(2).Minimumscale = -40"
   ]
  },
  {
   "cell_type": "code",
   "execution_count": 20,
   "id": "7ced7846-2372-4715-800e-1973267aa127",
   "metadata": {},
   "outputs": [
    {
     "name": "stdout",
     "output_type": "stream",
     "text": [
      "500 MHz\n",
      "-0.4994 dB\n",
      "1000 MHz\n",
      "-0.5016 dB\n",
      "500 MHz\n",
      "-0.4994 dB\n",
      "1000 MHz\n",
      "-0.5016 dB\n",
      "1000 MHz\n",
      "-0.5016 dB\n",
      "500 MHz\n",
      "-0.4994 dB\n"
     ]
    }
   ],
   "source": [
    "# Add markers to graph\n",
    "\n",
    "g1.Markers.Add(\"DB(|S(2,1)|)\", 1, 1e9)\n",
    "g1.Markers.Add(\"DB(|S(2,1)|)\", 1, .5e9)\n",
    "\n",
    "for mk in g1.Markers:\n",
    "    count = mk.NumDataValueDim\n",
    "    print(mk.DataValueText)"
   ]
  },
  {
   "cell_type": "code",
   "execution_count": 26,
   "id": "34922020-24c0-4ca8-badf-f3f0cee77d6d",
   "metadata": {},
   "outputs": [],
   "source": [
    "# Get Trace Data\n",
    "\n",
    "g2 = gs.Add(\"Smith\", 2)\n",
    "meas_S11 = g2.Measurements.Add(\"Schema1\", \"S(1,1)\")\n",
    "meas_S21 = g2.Measurements.Add(\"Schema1\", \"S(2,1)\")\n",
    "meas_S11.SimulateMeasurement()\n",
    "\n",
    "# Simulate\n",
    "sim = awrde.Project.Simulator.Analyze\n",
    "\n",
    "# Get trace data\n",
    "tv_S11 = array(meas_S11.TraceValues(1))\n",
    "tv_S21 = array(meas_S21.TraceValues(1))\n",
    "f_list = tv_S11[:,0]\n",
    "s11_list = tv_S11[:,1] + 1j*tv_S11[:,2]\n",
    "s21_list = tv_S21[:,1] + 1j*tv_S21[:,2]"
   ]
  },
  {
   "cell_type": "code",
   "execution_count": 29,
   "id": "ecd2e9c3-8bfa-4255-99af-dc8f025c6618",
   "metadata": {},
   "outputs": [
    {
     "data": {
      "image/png": "[encoded data removed]",
      "text/plain": [
       "<Figure size 432x288 with 1 Axes>"
      ]
     },
     "metadata": {
      "needs_background": "light"
     },
     "output_type": "display_data"
    }
   ],
   "source": [
    "# Plot data\n",
    "\n",
    "plt.style.use(\"bmh\")\n",
    "plt.plot(f_list/1e9, 20*log10(abs(s11_list)), label=\"$S_{11}$ Sim\")\n",
    "plt.plot(f_list/1e9, 20*log10(abs(s21_list)), label=\"$S_{21}$ Sim\")\n",
    "plt.grid(True)\n",
    "plt.xlabel(\"Frequency (GHz)\")\n",
    "plt.ylabel(\"S-Parameter (dB)\");\n",
    "plt.ylim(-30, 2)\n",
    "plt.legend(fontsize=14)\n",
    "plt.axhline(-3, c=\"g\", ls=\":\")\n",
    "plt.savefig(\"lowpassresp.png\")\n",
    "plt.show()"
   ]
  }
 ],
 "metadata": {
  "kernelspec": {
   "display_name": "Python 3 (ipykernel)",
   "language": "python",
   "name": "python3"
  },
  "language_info": {
   "codemirror_mode": {
    "name": "ipython",
    "version": 3
   },
   "file_extension": ".py",
   "mimetype": "text/x-python",
   "name": "python",
   "nbconvert_exporter": "python",
   "pygments_lexer": "ipython3",
   "version": "3.9.5"
  }
 },
 "nbformat": 4,
 "nbformat_minor": 5
}
